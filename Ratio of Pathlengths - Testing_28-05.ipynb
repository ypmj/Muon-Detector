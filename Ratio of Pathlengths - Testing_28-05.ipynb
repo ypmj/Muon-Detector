{
 "cells": [
  {
   "cell_type": "code",
   "execution_count": 1,
   "metadata": {},
   "outputs": [],
   "source": [
    "import numpy as np\n",
    "import matplotlib.pyplot as plt\n",
    "import pandas as pd\n",
    "%matplotlib inline\n"
   ]
  },
  {
   "cell_type": "code",
   "execution_count": 2,
   "metadata": {},
   "outputs": [],
   "source": [
    "data = pd.read_excel('Zenith angle vs. coincident count rate.xlsx')"
   ]
  },
  {
   "cell_type": "code",
   "execution_count": 3,
   "metadata": {},
   "outputs": [
    {
     "data": {
      "text/html": [
       "<div>\n",
       "<style scoped>\n",
       "    .dataframe tbody tr th:only-of-type {\n",
       "        vertical-align: middle;\n",
       "    }\n",
       "\n",
       "    .dataframe tbody tr th {\n",
       "        vertical-align: top;\n",
       "    }\n",
       "\n",
       "    .dataframe thead th {\n",
       "        text-align: right;\n",
       "    }\n",
       "</style>\n",
       "<table border=\"1\" class=\"dataframe\">\n",
       "  <thead>\n",
       "    <tr style=\"text-align: right;\">\n",
       "      <th></th>\n",
       "      <th>Zenith angle</th>\n",
       "      <th>Avg. count per hour</th>\n",
       "    </tr>\n",
       "  </thead>\n",
       "  <tbody>\n",
       "    <tr>\n",
       "      <th>0</th>\n",
       "      <td>0</td>\n",
       "      <td>11.4</td>\n",
       "    </tr>\n",
       "    <tr>\n",
       "      <th>1</th>\n",
       "      <td>9</td>\n",
       "      <td>11.5</td>\n",
       "    </tr>\n",
       "    <tr>\n",
       "      <th>2</th>\n",
       "      <td>19</td>\n",
       "      <td>10.1</td>\n",
       "    </tr>\n",
       "    <tr>\n",
       "      <th>3</th>\n",
       "      <td>28</td>\n",
       "      <td>8.8</td>\n",
       "    </tr>\n",
       "    <tr>\n",
       "      <th>4</th>\n",
       "      <td>34</td>\n",
       "      <td>8.3</td>\n",
       "    </tr>\n",
       "    <tr>\n",
       "      <th>5</th>\n",
       "      <td>40</td>\n",
       "      <td>7.7</td>\n",
       "    </tr>\n",
       "    <tr>\n",
       "      <th>6</th>\n",
       "      <td>45</td>\n",
       "      <td>5.8</td>\n",
       "    </tr>\n",
       "    <tr>\n",
       "      <th>7</th>\n",
       "      <td>53</td>\n",
       "      <td>5.6</td>\n",
       "    </tr>\n",
       "    <tr>\n",
       "      <th>8</th>\n",
       "      <td>66</td>\n",
       "      <td>3.1</td>\n",
       "    </tr>\n",
       "    <tr>\n",
       "      <th>9</th>\n",
       "      <td>70</td>\n",
       "      <td>3.0</td>\n",
       "    </tr>\n",
       "    <tr>\n",
       "      <th>10</th>\n",
       "      <td>80</td>\n",
       "      <td>2.7</td>\n",
       "    </tr>\n",
       "    <tr>\n",
       "      <th>11</th>\n",
       "      <td>90</td>\n",
       "      <td>1.7</td>\n",
       "    </tr>\n",
       "  </tbody>\n",
       "</table>\n",
       "</div>"
      ],
      "text/plain": [
       "    Zenith angle  Avg. count per hour\n",
       "0              0                 11.4\n",
       "1              9                 11.5\n",
       "2             19                 10.1\n",
       "3             28                  8.8\n",
       "4             34                  8.3\n",
       "5             40                  7.7\n",
       "6             45                  5.8\n",
       "7             53                  5.6\n",
       "8             66                  3.1\n",
       "9             70                  3.0\n",
       "10            80                  2.7\n",
       "11            90                  1.7"
      ]
     },
     "execution_count": 3,
     "metadata": {},
     "output_type": "execute_result"
    }
   ],
   "source": [
    "data"
   ]
  },
  {
   "cell_type": "code",
   "execution_count": 4,
   "metadata": {},
   "outputs": [],
   "source": [
    "X = data.iloc[:,0].values\n",
    "y = data.iloc[:,1].values"
   ]
  },
  {
   "cell_type": "code",
   "execution_count": 5,
   "metadata": {},
   "outputs": [],
   "source": [
    "from scipy import optimize"
   ]
  },
  {
   "cell_type": "markdown",
   "metadata": {},
   "source": [
    "### func1 = aCos(x)^n+b"
   ]
  },
  {
   "cell_type": "code",
   "execution_count": 6,
   "metadata": {},
   "outputs": [],
   "source": [
    "def func1(x, a, n, b):\n",
    "    return a*np.cos(np.deg2rad(X))**n + b"
   ]
  },
  {
   "cell_type": "code",
   "execution_count": 7,
   "metadata": {},
   "outputs": [],
   "source": [
    "popt_func1, pcov_func1 = optimize.curve_fit(func1, X, y, p0=[1, 0, 0])"
   ]
  },
  {
   "cell_type": "code",
   "execution_count": 8,
   "metadata": {},
   "outputs": [],
   "source": [
    "param = ['a','n','b']"
   ]
  },
  {
   "cell_type": "code",
   "execution_count": 9,
   "metadata": {},
   "outputs": [
    {
     "name": "stdout",
     "output_type": "stream",
     "text": [
      "Value for a  =  9.338158293628565\n",
      "Value for n  =  2.196544842507936\n",
      "Value for b  =  2.060499473893638\n"
     ]
    }
   ],
   "source": [
    "for i in range(3):\n",
    "    print ('Value for',param[i],' = ',popt_func1[i])"
   ]
  },
  {
   "cell_type": "code",
   "execution_count": 10,
   "metadata": {},
   "outputs": [
    {
     "name": "stdout",
     "output_type": "stream",
     "text": [
      "standard deviation error for a  =  0.33827630183132446\n",
      "standard deviation error for n  =  0.21471318840975576\n",
      "standard deviation error for b  =  0.2858942016107567\n"
     ]
    }
   ],
   "source": [
    "perr = np.sqrt(np.diag(pcov_func1))\n",
    "for i in range(3):\n",
    "    print ('standard deviation error for',param[i],' = ',perr[i])"
   ]
  },
  {
   "cell_type": "markdown",
   "metadata": {},
   "source": [
    "### Fitted curve to func 1"
   ]
  },
  {
   "cell_type": "code",
   "execution_count": 11,
   "metadata": {
    "scrolled": true
   },
   "outputs": [
    {
     "data": {
      "text/plain": [
       "[<matplotlib.lines.Line2D at 0x1737ad6f4a8>]"
      ]
     },
     "execution_count": 11,
     "metadata": {},
     "output_type": "execute_result"
    },
    {
     "data": {
      "image/png": "[encoded data removed]",
      "text/plain": [
       "<Figure size 432x288 with 1 Axes>"
      ]
     },
     "metadata": {
      "needs_background": "light"
     },
     "output_type": "display_data"
    }
   ],
   "source": [
    "plt.scatter(X,y)\n",
    "plt.plot(X,func1(X,*popt_func1),'k--')"
   ]
  },
  {
   "cell_type": "code",
   "execution_count": 12,
   "metadata": {},
   "outputs": [],
   "source": [
    "def func2(x, a, b, n, k):\n",
    "    return a*np.cos(np.deg2rad(X+k))**n + b"
   ]
  },
  {
   "cell_type": "code",
   "execution_count": 13,
   "metadata": {},
   "outputs": [
    {
     "name": "stderr",
     "output_type": "stream",
     "text": [
      "C:\\Users\\ASUS\\Anaconda3\\lib\\site-packages\\ipykernel_launcher.py:2: RuntimeWarning: invalid value encountered in power\n",
      "  \n"
     ]
    }
   ],
   "source": [
    "popt_func2, pcov_func2 = optimize.curve_fit(func2, X, y, p0=[1, 0, 0, -5])"
   ]
  },
  {
   "cell_type": "code",
   "execution_count": 14,
   "metadata": {},
   "outputs": [
    {
     "name": "stdout",
     "output_type": "stream",
     "text": [
      "Value for k =  -2.275585885558386e-06\n"
     ]
    }
   ],
   "source": [
    "print('Value for k = ',popt_func2[-1])\n"
   ]
  },
  {
   "cell_type": "code",
   "execution_count": 15,
   "metadata": {},
   "outputs": [
    {
     "name": "stdout",
     "output_type": "stream",
     "text": [
      "R^2 score : 0.9887736063413974\n"
     ]
    }
   ],
   "source": [
    "from sklearn.metrics import r2_score\n",
    "print('R^2 score :',r2_score(y,func1(X,*popt_func1)))"
   ]
  },
  {
   "cell_type": "markdown",
   "metadata": {},
   "source": [
    "### Ratio of pathlengths (S/d)"
   ]
  },
  {
   "cell_type": "code",
   "execution_count": 16,
   "metadata": {},
   "outputs": [],
   "source": [
    "Y_new = y/0.14    # To obtain flux formv the count"
   ]
  },
  {
   "cell_type": "code",
   "execution_count": 17,
   "metadata": {},
   "outputs": [],
   "source": [
    "def D(theta,k):\n",
    "    \"\"\" theta -> in degrees\n",
    "        k = R/d \n",
    "    \"\"\"\n",
    "    return np.sqrt((k*np.cos(np.deg2rad(theta)))**2 + 2*k + 1) - k*np.cos(np.deg2rad(theta))"
   ]
  },
  {
   "cell_type": "code",
   "execution_count": 18,
   "metadata": {},
   "outputs": [
    {
     "data": {
      "text/plain": [
       "<matplotlib.legend.Legend at 0x17300512630>"
      ]
     },
     "execution_count": 18,
     "metadata": {},
     "output_type": "execute_result"
    },
    {
     "data": {
      "image/png": "[encoded data removed]",
      "text/plain": [
       "<Figure size 432x288 with 1 Axes>"
      ]
     },
     "metadata": {
      "needs_background": "light"
     },
     "output_type": "display_data"
    }
   ],
   "source": [
    "x = np.linspace(0,70,100)\n",
    "F = D(x,4)\n",
    "plt.plot(x,F, label=r'D($\\Theta$)')\n",
    "plt.yscale('log')\n",
    "plt.xlabel(r'$\\Theta$ in degrees')\n",
    "plt.ylabel(r'D($\\Theta$)')\n",
    "plt.title(r'D($\\Theta$) Vs $\\Theta$')\n",
    "f = 1/np.cos(np.deg2rad(x))\n",
    "plt.plot(x,f, label=r'1/cos($\\Theta$)')\n",
    "plt.xlim([0,x[-1]])\n",
    "plt.legend()"
   ]
  },
  {
   "cell_type": "code",
   "execution_count": 19,
   "metadata": {},
   "outputs": [
    {
     "name": "stdout",
     "output_type": "stream",
     "text": [
      "R2 Score is 0.85 at k = 9.090909090909092\n"
     ]
    },
    {
     "data": {
      "image/png": "[encoded data removed]",
      "text/plain": [
       "<Figure size 432x288 with 1 Axes>"
      ]
     },
     "metadata": {
      "needs_background": "light"
     },
     "output_type": "display_data"
    }
   ],
   "source": [
    "K = np.linspace(0,100,100)\n",
    "R2_score = np.zeros(shape=K.shape)\n",
    "for i,k in enumerate(K):\n",
    "    F = D(x,k)\n",
    "    f = 1/np.cos(np.deg2rad(x))\n",
    "    R2_score[i] = r2_score(f,F)\n",
    "plt.plot(K,R2_score)\n",
    "plt.title('R^2 Score Vs k value')\n",
    "plt.ylabel('R^2 Score')\n",
    "plt.xlabel('k')\n",
    "plt.axhline(y=0.85, ls='-', c='black')\n",
    "min_R2 = np.where(R2_score>=0.85)[0][0] # Get minimum value for k s.t. R^2 score >=0.85\n",
    "plt.axvline(x=K[min_R2], ls='--', c='black')\n",
    "\n",
    "min_R2 = np.where(R2_score>=0.85)[0][0]\n",
    "print('R2 Score is 0.85 at k = '+str(K[min_R2]))   # Value varies with maximum angle"
   ]
  },
  {
   "cell_type": "code",
   "execution_count": 20,
   "metadata": {},
   "outputs": [],
   "source": [
    "n_0 = 3       #initial n value\n",
    "R = 6371    #Earth's Radius"
   ]
  },
  {
   "cell_type": "code",
   "execution_count": 21,
   "metadata": {},
   "outputs": [],
   "source": [
    "I0 = np.ones(shape=(2))\n",
    "k = np.ones(shape=(2))\n",
    "n = np.array([n_0 , 0.])\n",
    "param = {\"I0\":I0, \"k\":k, \"n\":n}\n",
    "i = 1"
   ]
  },
  {
   "cell_type": "code",
   "execution_count": 22,
   "metadata": {},
   "outputs": [],
   "source": [
    "def flux_k(theta,I0,k):\n",
    "    n = param[\"n\"][0]\n",
    "    return I0*D(theta,k)**-(n-1)"
   ]
  },
  {
   "cell_type": "code",
   "execution_count": 23,
   "metadata": {},
   "outputs": [],
   "source": [
    "def flux_n(theta,I0,n):\n",
    "    k = param[\"k\"][0]\n",
    "    return I0*D(theta,k)**-(n-1)"
   ]
  },
  {
   "cell_type": "code",
   "execution_count": 24,
   "metadata": {},
   "outputs": [
    {
     "name": "stdout",
     "output_type": "stream",
     "text": [
      "{'I0': [79.64910902573874, 0.33827630183132446], 'k': [3.795422387790475, 0.21471318840975576], 'n': array([3., 0.])}\n"
     ]
    }
   ],
   "source": [
    "if i==1:\n",
    "    popt_flux, pcov_flux = optimize.curve_fit(flux_k,X,Y_new,p0=[10,4])\n",
    "    #Updating parameters\n",
    "    param[\"I0\"] = [popt_flux[0], perr[0]]\n",
    "    param[\"k\"] = [popt_flux[1], perr[1]]\n",
    "else:\n",
    "    popt_flux, pcov_flux = optimize.curve_fit(flux_n,X,Y_new,p0=[10,4])\n",
    "    #Updating parameters\n",
    "    param[\"I0\"] = [popt_flux[0], perr[0]]\n",
    "    param[\"n\"] = [popt_flux[1], perr[1]]\n",
    "\n",
    "perr = np.sqrt(np.diag(pcov_flux))         #Getting std error \n",
    "i ^= 1\n",
    "\n",
    "print(param)"
   ]
  },
  {
   "cell_type": "code",
   "execution_count": 25,
   "metadata": {},
   "outputs": [
    {
     "data": {
      "text/plain": [
       "<matplotlib.legend.Legend at 0x173006dae10>"
      ]
     },
     "execution_count": 25,
     "metadata": {},
     "output_type": "execute_result"
    },
    {
     "data": {
      "image/png": "[encoded data removed]",
      "text/plain": [
       "<Figure size 432x288 with 1 Axes>"
      ]
     },
     "metadata": {
      "needs_background": "light"
     },
     "output_type": "display_data"
    }
   ],
   "source": [
    "d_theory = 79.64*(D(X,174)**-(3-1))   # Theoretical distribution\n",
    "d = 79.64*(D(X,3.79)**-(3-1))   # Obtained distribution\n",
    "Y_New = Y_new-1.06       # Flux - Corrected for bias\n",
    "plt.plot(X,d,'r', label='Obtained distribution')\n",
    "plt.plot(X,d_theory)\n",
    "plt.plot(X,Y_new,'ko', label='without bias(y)')\n",
    "plt.plot(X,Y_New,'o',label='corrected for bias(y-1.06)')\n",
    "plt.legend()"
   ]
  },
  {
   "cell_type": "code",
   "execution_count": 26,
   "metadata": {},
   "outputs": [
    {
     "name": "stdout",
     "output_type": "stream",
     "text": [
      "Chi2 is minimized(3.789205287600208) at b = 1.0610610610610611\n"
     ]
    },
    {
     "data": {
      "image/png": "[encoded data removed]",
      "text/plain": [
       "<Figure size 432x288 with 1 Axes>"
      ]
     },
     "metadata": {
      "needs_background": "light"
     },
     "output_type": "display_data"
    }
   ],
   "source": [
    "from scipy import stats\n",
    "\n",
    "b = np.linspace(0,5,1000)\n",
    "Chi2 = np.zeros(shape=b.shape)\n",
    "for i in range(b.shape[0]):\n",
    "    Y_obs = Y_new - b[i]\n",
    "    Chi2[i] = stats.chisquare(f_obs= Y_obs, f_exp = d)[0]\n",
    "\n",
    "    \n",
    "plt.plot(b,Chi2)\n",
    "plt.axvline(x=b[np.where(Chi2==Chi2.min())[0][0]], ls='--', c='black')\n",
    "plt.title('Chi2 Vs b')\n",
    "plt.xlabel('b')\n",
    "plt.ylabel('Chi2')\n",
    "print('Chi2 is minimized('+str(Chi2.min())+') at b = '+str(b[np.where(Chi2==Chi2.min())[0][0]]))"
   ]
  },
  {
   "cell_type": "code",
   "execution_count": 27,
   "metadata": {},
   "outputs": [
    {
     "name": "stdout",
     "output_type": "stream",
     "text": [
      "Power_divergenceResult(statistic=620.8455272303086, pvalue=4.856931578933757e-126)\n",
      "Power_divergenceResult(statistic=4.236439527918362, pvalue=0.9624831008507748)\n",
      "Power_divergenceResult(statistic=3.7892048718710853, pvalue=0.9756823994007929)\n"
     ]
    }
   ],
   "source": [
    "\n",
    "\n",
    "print(stats.chisquare(f_obs= Y_New, f_exp = d_theory))\n",
    "print(stats.chisquare(f_obs= Y_new, f_exp = d))\n",
    "print(stats.chisquare(f_obs= Y_New, f_exp = d))\n",
    "\n",
    "\n"
   ]
  }
 ],
 "metadata": {
  "kernelspec": {
   "display_name": "Python 3",
   "language": "python",
   "name": "python3"
  },
  "language_info": {
   "codemirror_mode": {
    "name": "ipython",
    "version": 3
   },
   "file_extension": ".py",
   "mimetype": "text/x-python",
   "name": "python",
   "nbconvert_exporter": "python",
   "pygments_lexer": "ipython3",
   "version": "3.7.3"
  }
 },
 "nbformat": 4,
 "nbformat_minor": 2
}
