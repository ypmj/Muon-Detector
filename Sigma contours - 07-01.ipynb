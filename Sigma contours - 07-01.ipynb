{
 "cells": [
  {
   "cell_type": "code",
   "execution_count": 1,
   "metadata": {},
   "outputs": [],
   "source": [
    "import numpy as np\n",
    "import matplotlib.pyplot as plt\n",
    "import pandas as pd\n",
    "%matplotlib inline\n"
   ]
  },
  {
   "cell_type": "code",
   "execution_count": 2,
   "metadata": {},
   "outputs": [],
   "source": [
    "data = pd.read_excel('Zenith angle vs. coincident count rate.xlsx')"
   ]
  },
  {
   "cell_type": "code",
   "execution_count": 3,
   "metadata": {},
   "outputs": [
    {
     "data": {
      "text/html": [
       "<div>\n",
       "<style scoped>\n",
       "    .dataframe tbody tr th:only-of-type {\n",
       "        vertical-align: middle;\n",
       "    }\n",
       "\n",
       "    .dataframe tbody tr th {\n",
       "        vertical-align: top;\n",
       "    }\n",
       "\n",
       "    .dataframe thead th {\n",
       "        text-align: right;\n",
       "    }\n",
       "</style>\n",
       "<table border=\"1\" class=\"dataframe\">\n",
       "  <thead>\n",
       "    <tr style=\"text-align: right;\">\n",
       "      <th></th>\n",
       "      <th>Zenith angle</th>\n",
       "      <th>Avg. count per hour</th>\n",
       "    </tr>\n",
       "  </thead>\n",
       "  <tbody>\n",
       "    <tr>\n",
       "      <th>0</th>\n",
       "      <td>0</td>\n",
       "      <td>11.4</td>\n",
       "    </tr>\n",
       "    <tr>\n",
       "      <th>1</th>\n",
       "      <td>9</td>\n",
       "      <td>11.5</td>\n",
       "    </tr>\n",
       "    <tr>\n",
       "      <th>2</th>\n",
       "      <td>19</td>\n",
       "      <td>10.1</td>\n",
       "    </tr>\n",
       "    <tr>\n",
       "      <th>3</th>\n",
       "      <td>28</td>\n",
       "      <td>8.8</td>\n",
       "    </tr>\n",
       "    <tr>\n",
       "      <th>4</th>\n",
       "      <td>34</td>\n",
       "      <td>8.3</td>\n",
       "    </tr>\n",
       "    <tr>\n",
       "      <th>5</th>\n",
       "      <td>40</td>\n",
       "      <td>7.7</td>\n",
       "    </tr>\n",
       "    <tr>\n",
       "      <th>6</th>\n",
       "      <td>45</td>\n",
       "      <td>5.8</td>\n",
       "    </tr>\n",
       "    <tr>\n",
       "      <th>7</th>\n",
       "      <td>53</td>\n",
       "      <td>5.6</td>\n",
       "    </tr>\n",
       "    <tr>\n",
       "      <th>8</th>\n",
       "      <td>66</td>\n",
       "      <td>3.1</td>\n",
       "    </tr>\n",
       "    <tr>\n",
       "      <th>9</th>\n",
       "      <td>70</td>\n",
       "      <td>3.0</td>\n",
       "    </tr>\n",
       "    <tr>\n",
       "      <th>10</th>\n",
       "      <td>80</td>\n",
       "      <td>2.7</td>\n",
       "    </tr>\n",
       "    <tr>\n",
       "      <th>11</th>\n",
       "      <td>90</td>\n",
       "      <td>1.7</td>\n",
       "    </tr>\n",
       "  </tbody>\n",
       "</table>\n",
       "</div>"
      ],
      "text/plain": [
       "    Zenith angle  Avg. count per hour\n",
       "0              0                 11.4\n",
       "1              9                 11.5\n",
       "2             19                 10.1\n",
       "3             28                  8.8\n",
       "4             34                  8.3\n",
       "5             40                  7.7\n",
       "6             45                  5.8\n",
       "7             53                  5.6\n",
       "8             66                  3.1\n",
       "9             70                  3.0\n",
       "10            80                  2.7\n",
       "11            90                  1.7"
      ]
     },
     "execution_count": 3,
     "metadata": {},
     "output_type": "execute_result"
    }
   ],
   "source": [
    "data"
   ]
  },
  {
   "cell_type": "code",
   "execution_count": 4,
   "metadata": {},
   "outputs": [],
   "source": [
    "X = data.iloc[:,0].values\n",
    "y = data.iloc[:,1].values"
   ]
  },
  {
   "cell_type": "markdown",
   "metadata": {},
   "source": [
    "<img src=\"https://latex.codecogs.com/gif.latex?\\delta&space;Y&space;=&space;\\sqrt{\\frac{Y}{T}}\" title=\"\\delta Y = \\sqrt{\\frac{Y}{T}}\" />"
   ]
  },
  {
   "cell_type": "code",
   "execution_count": 5,
   "metadata": {
    "scrolled": true
   },
   "outputs": [
    {
     "data": {
      "text/html": [
       "<div>\n",
       "<style scoped>\n",
       "    .dataframe tbody tr th:only-of-type {\n",
       "        vertical-align: middle;\n",
       "    }\n",
       "\n",
       "    .dataframe tbody tr th {\n",
       "        vertical-align: top;\n",
       "    }\n",
       "\n",
       "    .dataframe thead th {\n",
       "        text-align: right;\n",
       "    }\n",
       "</style>\n",
       "<table border=\"1\" class=\"dataframe\">\n",
       "  <thead>\n",
       "    <tr style=\"text-align: right;\">\n",
       "      <th></th>\n",
       "      <th>Zenith angle</th>\n",
       "      <th>Avg. count per hour</th>\n",
       "      <th>Avg_Count_Error</th>\n",
       "    </tr>\n",
       "  </thead>\n",
       "  <tbody>\n",
       "    <tr>\n",
       "      <th>0</th>\n",
       "      <td>0</td>\n",
       "      <td>11.4</td>\n",
       "      <td>0.49</td>\n",
       "    </tr>\n",
       "    <tr>\n",
       "      <th>1</th>\n",
       "      <td>9</td>\n",
       "      <td>11.5</td>\n",
       "      <td>0.49</td>\n",
       "    </tr>\n",
       "    <tr>\n",
       "      <th>2</th>\n",
       "      <td>19</td>\n",
       "      <td>10.1</td>\n",
       "      <td>0.46</td>\n",
       "    </tr>\n",
       "    <tr>\n",
       "      <th>3</th>\n",
       "      <td>28</td>\n",
       "      <td>8.8</td>\n",
       "      <td>0.43</td>\n",
       "    </tr>\n",
       "    <tr>\n",
       "      <th>4</th>\n",
       "      <td>34</td>\n",
       "      <td>8.3</td>\n",
       "      <td>0.42</td>\n",
       "    </tr>\n",
       "    <tr>\n",
       "      <th>5</th>\n",
       "      <td>40</td>\n",
       "      <td>7.7</td>\n",
       "      <td>0.40</td>\n",
       "    </tr>\n",
       "    <tr>\n",
       "      <th>6</th>\n",
       "      <td>45</td>\n",
       "      <td>5.8</td>\n",
       "      <td>0.35</td>\n",
       "    </tr>\n",
       "    <tr>\n",
       "      <th>7</th>\n",
       "      <td>53</td>\n",
       "      <td>5.6</td>\n",
       "      <td>0.34</td>\n",
       "    </tr>\n",
       "    <tr>\n",
       "      <th>8</th>\n",
       "      <td>66</td>\n",
       "      <td>3.1</td>\n",
       "      <td>0.25</td>\n",
       "    </tr>\n",
       "    <tr>\n",
       "      <th>9</th>\n",
       "      <td>70</td>\n",
       "      <td>3.0</td>\n",
       "      <td>0.25</td>\n",
       "    </tr>\n",
       "    <tr>\n",
       "      <th>10</th>\n",
       "      <td>80</td>\n",
       "      <td>2.7</td>\n",
       "      <td>0.24</td>\n",
       "    </tr>\n",
       "    <tr>\n",
       "      <th>11</th>\n",
       "      <td>90</td>\n",
       "      <td>1.7</td>\n",
       "      <td>0.19</td>\n",
       "    </tr>\n",
       "  </tbody>\n",
       "</table>\n",
       "</div>"
      ],
      "text/plain": [
       "    Zenith angle  Avg. count per hour  Avg_Count_Error\n",
       "0              0                 11.4             0.49\n",
       "1              9                 11.5             0.49\n",
       "2             19                 10.1             0.46\n",
       "3             28                  8.8             0.43\n",
       "4             34                  8.3             0.42\n",
       "5             40                  7.7             0.40\n",
       "6             45                  5.8             0.35\n",
       "7             53                  5.6             0.34\n",
       "8             66                  3.1             0.25\n",
       "9             70                  3.0             0.25\n",
       "10            80                  2.7             0.24\n",
       "11            90                  1.7             0.19"
      ]
     },
     "execution_count": 5,
     "metadata": {},
     "output_type": "execute_result"
    }
   ],
   "source": [
    "T = 48   # Number of hours data taken\n",
    "Avg_error = np.sqrt(y/T)\n",
    "data[\"Avg_Count_Error\"] = np.round(Avg_error, decimals=2)\n",
    "data"
   ]
  },
  {
   "cell_type": "code",
   "execution_count": 6,
   "metadata": {},
   "outputs": [],
   "source": [
    "from scipy import optimize"
   ]
  },
  {
   "cell_type": "markdown",
   "metadata": {},
   "source": [
    "### func1 = aCos(x)^n+b"
   ]
  },
  {
   "cell_type": "code",
   "execution_count": 7,
   "metadata": {},
   "outputs": [],
   "source": [
    "def func1(x, a, n, b):\n",
    "    return a*np.cos(np.deg2rad(X))**n + b"
   ]
  },
  {
   "cell_type": "code",
   "execution_count": 8,
   "metadata": {},
   "outputs": [],
   "source": [
    "popt_func1, pcov_func1 = optimize.curve_fit(func1, X, y, p0=[1, 0, 0])"
   ]
  },
  {
   "cell_type": "code",
   "execution_count": 9,
   "metadata": {},
   "outputs": [],
   "source": [
    "param = ['a','n','b']"
   ]
  },
  {
   "cell_type": "code",
   "execution_count": 10,
   "metadata": {},
   "outputs": [
    {
     "name": "stdout",
     "output_type": "stream",
     "text": [
      "Value for a  =  9.338158293628565\n",
      "Value for n  =  2.196544842507936\n",
      "Value for b  =  2.060499473893638\n"
     ]
    }
   ],
   "source": [
    "for i in range(3):\n",
    "    print ('Value for',param[i],' = ',popt_func1[i])"
   ]
  },
  {
   "cell_type": "code",
   "execution_count": 11,
   "metadata": {},
   "outputs": [
    {
     "name": "stdout",
     "output_type": "stream",
     "text": [
      "standard deviation error for a  =  0.33827630183132446\n",
      "standard deviation error for n  =  0.21471318840975576\n",
      "standard deviation error for b  =  0.2858942016107567\n"
     ]
    }
   ],
   "source": [
    "perr = np.sqrt(np.diag(pcov_func1))\n",
    "for i in range(3):\n",
    "    print ('standard deviation error for',param[i],' = ',perr[i])"
   ]
  },
  {
   "cell_type": "markdown",
   "metadata": {},
   "source": [
    "### Fitted curve to func 1 - (Flat earth approx.)"
   ]
  },
  {
   "cell_type": "code",
   "execution_count": 12,
   "metadata": {
    "scrolled": true
   },
   "outputs": [
    {
     "data": {
      "text/plain": [
       "[<matplotlib.lines.Line2D at 0x216f7b685f8>]"
      ]
     },
     "execution_count": 12,
     "metadata": {},
     "output_type": "execute_result"
    },
    {
     "data": {
      "image/png": "[encoded data removed]",
      "text/plain": [
       "<Figure size 432x288 with 1 Axes>"
      ]
     },
     "metadata": {
      "needs_background": "light"
     },
     "output_type": "display_data"
    }
   ],
   "source": [
    "plt.scatter(X,y)\n",
    "plt.plot(X,func1(X,*popt_func1),'k--')"
   ]
  },
  {
   "cell_type": "code",
   "execution_count": 13,
   "metadata": {},
   "outputs": [
    {
     "name": "stdout",
     "output_type": "stream",
     "text": [
      "R^2 score : 0.9887736063413974\n"
     ]
    }
   ],
   "source": [
    "from sklearn.metrics import r2_score\n",
    "print('R^2 score :',r2_score(y,func1(X,*popt_func1)))"
   ]
  },
  {
   "cell_type": "markdown",
   "metadata": {},
   "source": [
    "### func2 = a*Cos(X+k)^n + b"
   ]
  },
  {
   "cell_type": "code",
   "execution_count": 14,
   "metadata": {},
   "outputs": [],
   "source": [
    "def func2(x, a, b, n, k):\n",
    "    return a*np.cos(np.deg2rad(X+k))**n + b"
   ]
  },
  {
   "cell_type": "code",
   "execution_count": 15,
   "metadata": {},
   "outputs": [
    {
     "name": "stderr",
     "output_type": "stream",
     "text": [
      "C:\\Users\\ASUS\\Anaconda3\\lib\\site-packages\\ipykernel_launcher.py:2: RuntimeWarning: invalid value encountered in power\n",
      "  \n"
     ]
    }
   ],
   "source": [
    "popt_func2, pcov_func2 = optimize.curve_fit(func2, X, y, p0=[1, 0, 0, -5])"
   ]
  },
  {
   "cell_type": "code",
   "execution_count": 16,
   "metadata": {},
   "outputs": [
    {
     "name": "stdout",
     "output_type": "stream",
     "text": [
      "Value for k =  -2.275585885558386e-06\n"
     ]
    }
   ],
   "source": [
    "print('Value for k = ',popt_func2[-1])\n"
   ]
  },
  {
   "cell_type": "raw",
   "metadata": {},
   "source": [
    "K ~= 0 "
   ]
  },
  {
   "cell_type": "markdown",
   "metadata": {},
   "source": [
    "### Ratio of pathlengths (S/d)"
   ]
  },
  {
   "cell_type": "markdown",
   "metadata": {},
   "source": [
    "<img src=\"https://latex.codecogs.com/gif.latex?D(\\theta)&space;=&space;\\frac{S}{d}&space;=&space;\\sqrt{\\left&space;(&space;\\frac{R^{2}}{d^{2}}cos^{2}(\\theta)&space;&plus;&space;2\\frac{R}{d}&space;&plus;&space;1&space;\\right&space;)}&space;-&space;\\frac{R}{d}cos(\\theta)\" title=\"D(\\theta) = \\frac{S}{d} = \\sqrt{\\left ( \\frac{R^{2}}{d^{2}}cos^{2}(\\theta) + 2\\frac{R}{d} + 1 \\right )} - \\frac{R}{d}cos(\\theta)\" />"
   ]
  },
  {
   "cell_type": "code",
   "execution_count": 17,
   "metadata": {},
   "outputs": [],
   "source": [
    "def D(theta,k):\n",
    "    \"\"\" theta -> in degrees\n",
    "        k = R/d \n",
    "    \"\"\"\n",
    "    return np.sqrt((k*np.cos(np.deg2rad(theta)))**2 + 2*k + 1) - k*np.cos(np.deg2rad(theta))"
   ]
  },
  {
   "cell_type": "code",
   "execution_count": 18,
   "metadata": {},
   "outputs": [
    {
     "data": {
      "text/plain": [
       "<matplotlib.legend.Legend at 0x216f9f72400>"
      ]
     },
     "execution_count": 18,
     "metadata": {},
     "output_type": "execute_result"
    },
    {
     "data": {
      "image/png": "[encoded data removed]",
      "text/plain": [
       "<Figure size 432x288 with 1 Axes>"
      ]
     },
     "metadata": {
      "needs_background": "light"
     },
     "output_type": "display_data"
    }
   ],
   "source": [
    "x = np.linspace(0,70,100)\n",
    "F = D(x,4)\n",
    "plt.plot(x,F, label=r'D($\\Theta$)')\n",
    "plt.yscale('log')\n",
    "plt.xlabel(r'$\\Theta$ in degrees')\n",
    "plt.ylabel(r'D($\\Theta$)')\n",
    "plt.title(r'D($\\Theta$) Vs $\\Theta$')\n",
    "f = 1/np.cos(np.deg2rad(x))\n",
    "plt.plot(x,f, label=r'1/cos($\\Theta$)')\n",
    "plt.xlim([0,x[-1]])\n",
    "plt.legend()"
   ]
  },
  {
   "cell_type": "code",
   "execution_count": 19,
   "metadata": {},
   "outputs": [
    {
     "name": "stdout",
     "output_type": "stream",
     "text": [
      "R2 Score is 0.85 at k = 9.090909090909092\n"
     ]
    },
    {
     "data": {
      "image/png": "[encoded data removed]",
      "text/plain": [
       "<Figure size 432x288 with 1 Axes>"
      ]
     },
     "metadata": {
      "needs_background": "light"
     },
     "output_type": "display_data"
    }
   ],
   "source": [
    "K = np.linspace(0,100,100)\n",
    "R2_score = np.zeros(shape=K.shape)\n",
    "for i,k in enumerate(K):\n",
    "    F = D(x,k)\n",
    "    f = 1/np.cos(np.deg2rad(x))\n",
    "    R2_score[i] = r2_score(f,F)\n",
    "plt.plot(K,R2_score)\n",
    "plt.title('R^2 Score Vs k value')\n",
    "plt.ylabel('R^2 Score')\n",
    "plt.xlabel('k')\n",
    "plt.axhline(y=0.85, ls='-', c='black')\n",
    "min_R2 = np.where(R2_score>=0.85)[0][0] # Get minimum value for k s.t. R^2 score >=0.85\n",
    "plt.axvline(x=K[min_R2], ls='--', c='black')\n",
    "\n",
    "min_R2 = np.where(R2_score>=0.85)[0][0]\n",
    "print('R2 Score is 0.85 at k = '+str(K[min_R2]))   # Value varies with maximum angle"
   ]
  },
  {
   "cell_type": "markdown",
   "metadata": {},
   "source": [
    "### Distribution"
   ]
  },
  {
   "cell_type": "markdown",
   "metadata": {},
   "source": [
    "<img src=\"https://latex.codecogs.com/gif.latex?\\Phi&space;=&space;I_{0}D(\\theta)^{-(n-1)}\" title=\"\\Phi = I_{0}D(\\theta)^{-(n-1)}\" />"
   ]
  },
  {
   "cell_type": "code",
   "execution_count": 20,
   "metadata": {},
   "outputs": [],
   "source": [
    "def flux_n(theta,I0,n):\n",
    "    k = param[\"k\"][0]\n",
    "    return I0*D(theta,k)**-(n-1)"
   ]
  },
  {
   "cell_type": "code",
   "execution_count": 21,
   "metadata": {},
   "outputs": [],
   "source": [
    "def flux_k(theta,I0,k):\n",
    "    n = param[\"n\"][0]\n",
    "    return I0*D(theta,k)**-(n-1)"
   ]
  },
  {
   "cell_type": "code",
   "execution_count": 22,
   "metadata": {},
   "outputs": [],
   "source": [
    "n_0 = 3       #initial n value\n",
    "R = 6371    #Earth's Radius\n",
    "\n",
    "I0_shukla = 88.0   # I0 value from Shukla's work"
   ]
  },
  {
   "cell_type": "code",
   "execution_count": 23,
   "metadata": {},
   "outputs": [],
   "source": [
    "# Make space for parameters and their errors\n",
    "I0 = np.ones(shape=(2))\n",
    "k = np.ones(shape=(2))\n",
    "n = np.array([n_0 , 0.])\n",
    "param = {\"I0\":I0, \n",
    "         \"k\":k, \n",
    "         \"n\":n}"
   ]
  },
  {
   "cell_type": "code",
   "execution_count": 24,
   "metadata": {
    "scrolled": true
   },
   "outputs": [
    {
     "name": "stdout",
     "output_type": "stream",
     "text": [
      "Obtained value for area is 0.12642642642642643\n"
     ]
    },
    {
     "data": {
      "image/png": "[encoded data removed]",
      "text/plain": [
       "<Figure size 432x288 with 1 Axes>"
      ]
     },
     "metadata": {
      "needs_background": "light"
     },
     "output_type": "display_data"
    }
   ],
   "source": [
    "area = np.linspace(0.1, 0.4, 1000)\n",
    "i0 = []\n",
    "for a in area:\n",
    "    popt_flux, pcov_flux = optimize.curve_fit(flux_k,X,y/a,p0=[10,4])\n",
    "    I0 = popt_flux[0]\n",
    "    i0.append(I0)\n",
    "\n",
    "i0 = np.array(i0)    \n",
    "# plt.figure(figsize=(9,7))\n",
    "\n",
    "plt.xlabel('Area')\n",
    "plt.ylabel(r'I$_0$')\n",
    "plt.title(r'I$_0$ vs. Area')\n",
    "plt.plot(area,i0,label='I$_0$')\n",
    "plt.axhline(y=I0_shukla,c='black',label=\"Shukla's I$_0$\")\n",
    "\n",
    "index = np.where(i0>=I0_shukla)[0][-1]   # Get index of corresponding I0 value\n",
    "area = area[index]   # save effective area\n",
    "\n",
    "plt.axvline(x=area,ls='--',c='r')\n",
    "plt.legend()\n",
    "print('Obtained value for area is ' + str(area))"
   ]
  },
  {
   "cell_type": "code",
   "execution_count": 25,
   "metadata": {},
   "outputs": [],
   "source": [
    "Y_new = y/area    # To obtain flux formv the count"
   ]
  },
  {
   "cell_type": "code",
   "execution_count": 26,
   "metadata": {},
   "outputs": [
    {
     "name": "stdout",
     "output_type": "stream",
     "text": [
      "{'I0': [88.20050782629559, 0.33827630183132446], 'k': [3.795421001285907, 0.21471318840975576], 'n': array([3., 0.])}\n"
     ]
    }
   ],
   "source": [
    "popt_flux, pcov_flux = optimize.curve_fit(flux_k,X,Y_new,p0=[10,4])   # Optimizing values for I0 and k\n",
    "#Updating parameters\n",
    "param[\"I0\"] = [popt_flux[0], perr[0]]\n",
    "param[\"k\"] = [popt_flux[1], perr[1]]\n",
    "\n",
    "perr = np.sqrt(np.diag(pcov_flux))         #Getting std errors\n",
    "\n",
    "print(param)\n",
    "\n",
    "I0 = param['I0'][0]\n",
    "k = param['k'][0]\n",
    "n = param['n'][0]"
   ]
  },
  {
   "cell_type": "markdown",
   "metadata": {},
   "source": [
    "### Goodness of fit"
   ]
  },
  {
   "cell_type": "code",
   "execution_count": 27,
   "metadata": {},
   "outputs": [
    {
     "name": "stdout",
     "output_type": "stream",
     "text": [
      "Power_divergenceResult(statistic=4.704917846008202, pvalue=0.944610911396897)\n"
     ]
    }
   ],
   "source": [
    "from scipy import stats\n",
    "d = I0*D(X,k)**(1-n)\n",
    "pvalue = stats.chisquare(f_obs= Y_new, f_exp = d)[1]\n",
    "print(stats.chisquare(f_obs= Y_new, f_exp = d))"
   ]
  },
  {
   "cell_type": "markdown",
   "metadata": {},
   "source": [
    "### 1-sigma & 2-sigma contour"
   ]
  },
  {
   "cell_type": "markdown",
   "metadata": {},
   "source": [
    "<img src=\"https://latex.codecogs.com/gif.latex?p&space;=&space;erf\\left&space;(&space;\\frac{\\sigma&space;}{\\sqrt{2}}&space;\\right&space;)\" title=\"p = erf\\left ( \\frac{\\sigma }{\\sqrt{2}} \\right )\" />"
   ]
  },
  {
   "cell_type": "code",
   "execution_count": 42,
   "metadata": {},
   "outputs": [
    {
     "name": "stdout",
     "output_type": "stream",
     "text": [
      "Sigma = 1.9158115378282627\n"
     ]
    }
   ],
   "source": [
    "from scipy import special\n",
    "sigma = lambda p : np.sqrt(2)*special.erfinv(p)   # Calculate sigma for a given p value\n",
    "p_val = lambda sigma : special.erf(sigma/np.sqrt(2))   # Calculate p value for a given sigma\n",
    "Sigma = sigma(pvalue)   # Current Sigma \n",
    "print ('Sigma = '+str(Sigma))\n",
    "Sigma_1 = Sigma-1   # Reduced 1 sigma for genetrate contour\n",
    "P_1 = p_val(Sigma_1)   # Corresponding p value for reduced sigma"
   ]
  },
  {
   "cell_type": "code",
   "execution_count": 43,
   "metadata": {},
   "outputs": [],
   "source": [
    "h = 300   # Number of intervals\n",
    "buffer1=[]\n",
    "buffer2=[]\n",
    "I0_Test = I0 + np.linspace(-50,50,h)\n",
    "k_Test = k + np.linspace(-3,8,h)\n",
    "for k_test in k_Test:\n",
    "    for I0_test in I0_Test:\n",
    "        y_test = I0_test*D(X,k_test)**(1-n)\n",
    "        C = (stats.chisquare(f_obs= y_test, f_exp = d)[0])   # Get chi2 value for corresponding co-ordinates\n",
    "        P = (stats.chisquare(f_obs= y_test, f_exp = d)[1])   # Get p value for corresponding co-ordinates\n",
    "        if P >= P_1:\n",
    "            buffer1.append([I0_test, k_test])   # 1-sigma contour\n",
    "        elif C <=11:\n",
    "            buffer2.append([I0_test, k_test])   # 2-sigma contour\n",
    "buffer1 = np.array(buffer1)\n",
    "buffer2 = np.array(buffer2)"
   ]
  },
  {
   "cell_type": "code",
   "execution_count": 44,
   "metadata": {},
   "outputs": [
    {
     "data": {
      "text/plain": [
       "Text(0, 0.5, 'k')"
      ]
     },
     "execution_count": 44,
     "metadata": {},
     "output_type": "execute_result"
    },
    {
     "data": {
      "image/png": "[encoded data removed]",
      "text/plain": [
       "<Figure size 360x360 with 1 Axes>"
      ]
     },
     "metadata": {
      "needs_background": "light"
     },
     "output_type": "display_data"
    }
   ],
   "source": [
    "plt.figure(figsize=(5,5))\n",
    "\n",
    "plt.plot(buffer1[:,0],buffer1[:,1],'.')\n",
    "# plt.plot(buffer2[:,0],buffer2[:,1],'r.')\n",
    "plt.xlim(I0_Test[0],I0_Test[-1])\n",
    "plt.ylim(k_Test[0],k_Test[-1])\n",
    "\n",
    "plt.xlabel('$I_0$')\n",
    "plt.ylabel('k')"
   ]
  },
  {
   "cell_type": "markdown",
   "metadata": {},
   "source": [
    "### Calculating bias "
   ]
  },
  {
   "cell_type": "code",
   "execution_count": 31,
   "metadata": {},
   "outputs": [
    {
     "name": "stdout",
     "output_type": "stream",
     "text": [
      "Chi2 is minimized(4.20220383712217) at b = 1.1811811811811812\n"
     ]
    },
    {
     "data": {
      "image/png": "[encoded data removed]",
      "text/plain": [
       "<Figure size 432x288 with 1 Axes>"
      ]
     },
     "metadata": {
      "needs_background": "light"
     },
     "output_type": "display_data"
    }
   ],
   "source": [
    "d_theory = I0*(D(X,174)**-(n-1))   # Theoretical distribution\n",
    "d = I0*(D(X,k)**-(n-1))   # Obtained distribution\n",
    "\n",
    "b = np.linspace(0,5,1000)   # Error:- (5-0)/1000 \n",
    "Chi2 = np.zeros(shape=b.shape)\n",
    "for i in range(b.shape[0]):\n",
    "    Y_obs = Y_new - b[i]\n",
    "    Chi2[i] = stats.chisquare(f_obs= Y_obs, f_exp = d)[0]\n",
    "\n",
    "    \n",
    "plt.plot(b,Chi2)\n",
    "plt.axvline(x=b[np.where(Chi2==Chi2.min())[0][0]], ls='--', c='black')\n",
    "plt.title('Chi2 Vs b')\n",
    "plt.xlabel('b')\n",
    "plt.ylabel('Chi2')\n",
    "print('Chi2 is minimized('+str(Chi2.min())+') at b = '+str(b[np.where(Chi2==Chi2.min())[0][0]]))"
   ]
  },
  {
   "cell_type": "code",
   "execution_count": 32,
   "metadata": {},
   "outputs": [
    {
     "data": {
      "text/plain": [
       "<matplotlib.legend.Legend at 0x216fa2688d0>"
      ]
     },
     "execution_count": 32,
     "metadata": {},
     "output_type": "execute_result"
    },
    {
     "data": {
      "image/png": "[encoded data removed]",
      "text/plain": [
       "<Figure size 432x288 with 1 Axes>"
      ]
     },
     "metadata": {
      "needs_background": "light"
     },
     "output_type": "display_data"
    }
   ],
   "source": [
    "bias = b[np.where(Chi2==Chi2.min())[0][0]]\n",
    "Y_New = Y_new-bias       # Flux - Corrected for bias\n",
    "plt.plot(X,d,'r', label='Obtained distribution')\n",
    "plt.plot(X,d_theory)\n",
    "plt.plot(X,Y_new,'ko', label='without bias(y)')\n",
    "plt.plot(X,Y_New,'o',label='corrected for bias(y-%.2f)' % bias) \n",
    "plt.xlabel(r'$\\Theta$ in degrees')\n",
    "plt.ylabel(r'$\\Phi_{(\\theta)}$')\n",
    "           \n",
    "plt.legend()"
   ]
  },
  {
   "cell_type": "markdown",
   "metadata": {},
   "source": [
    "### Error in Y_New"
   ]
  },
  {
   "cell_type": "markdown",
   "metadata": {},
   "source": [
    "<img src=\"https://latex.codecogs.com/gif.latex?\\delta&space;Y_{New}&space;=&space;\\sqrt{\\left&space;(&space;\\frac{\\delta&space;Y}{area}&space;\\right&space;)^2&space;&plus;&space;\\left&space;(&space;\\delta&space;b&space;\\right&space;)^2}\" title=\"\\delta Y_{New} = \\sqrt{\\left ( \\frac{\\delta Y}{area} \\right )^2 + \\left ( \\delta b \\right )^2}\" />"
   ]
  },
  {
   "cell_type": "code",
   "execution_count": 33,
   "metadata": {},
   "outputs": [
    {
     "data": {
      "text/plain": [
       "Text(0, 0.5, '$\\\\Phi_{(\\\\theta)}$')"
      ]
     },
     "execution_count": 33,
     "metadata": {},
     "output_type": "execute_result"
    },
    {
     "data": {
      "image/png": "[encoded data removed]",
      "text/plain": [
       "<Figure size 504x504 with 1 Axes>"
      ]
     },
     "metadata": {
      "needs_background": "light"
     },
     "output_type": "display_data"
    }
   ],
   "source": [
    "Y_New_error = np.sqrt((data.iloc[:,2].values/area)**2 + (5/1000)**2)\n",
    "\n",
    "bias = b[np.where(Chi2==Chi2.min())[0][0]]\n",
    "Y_New = Y_new-bias       # Flux - Corrected for bias\n",
    "\n",
    "plt.figure(figsize=(7,7))\n",
    "plt.plot(X,d,'r', label='Obtained distribution')\n",
    "plt.plot(X,d_theory)\n",
    "# plt.plot(X,Y_new,'ko', label='without bias(y)')\n",
    "plt.errorbar(X,Y_New,yerr=Y_New_error,marker='o',ls='',label='corrected for bias(y-%.2f)' % bias) \n",
    "plt.legend()\n",
    "plt.xlabel(r'$\\Theta$ in degrees')\n",
    "plt.ylabel(r'$\\Phi_{(\\theta)}$')"
   ]
  },
  {
   "cell_type": "code",
   "execution_count": 34,
   "metadata": {},
   "outputs": [
    {
     "name": "stdout",
     "output_type": "stream",
     "text": [
      "Power_divergenceResult(statistic=686.5907137450782, pvalue=4.0372283885398585e-140)\n",
      "Power_divergenceResult(statistic=4.704917846008202, pvalue=0.944610911396897)\n",
      "Power_divergenceResult(statistic=4.20220383712217, pvalue=0.9636242347445427)\n"
     ]
    }
   ],
   "source": [
    "print(stats.chisquare(f_obs= Y_New, f_exp = d_theory))\n",
    "print(stats.chisquare(f_obs= Y_new, f_exp = d))\n",
    "print(stats.chisquare(f_obs= Y_New, f_exp = d))\n"
   ]
  },
  {
   "cell_type": "markdown",
   "metadata": {},
   "source": [
    "### DATA table with background rate"
   ]
  },
  {
   "cell_type": "code",
   "execution_count": 35,
   "metadata": {},
   "outputs": [],
   "source": [
    "background = (bias/I0)"
   ]
  },
  {
   "cell_type": "code",
   "execution_count": 36,
   "metadata": {},
   "outputs": [],
   "source": [
    "background = np.ones(shape=X.shape)*background\n",
    "data[\"Background Rate\"] = np.round(background, decimals=2)"
   ]
  },
  {
   "cell_type": "code",
   "execution_count": 37,
   "metadata": {},
   "outputs": [
    {
     "data": {
      "text/html": [
       "<div>\n",
       "<style scoped>\n",
       "    .dataframe tbody tr th:only-of-type {\n",
       "        vertical-align: middle;\n",
       "    }\n",
       "\n",
       "    .dataframe tbody tr th {\n",
       "        vertical-align: top;\n",
       "    }\n",
       "\n",
       "    .dataframe thead th {\n",
       "        text-align: right;\n",
       "    }\n",
       "</style>\n",
       "<table border=\"1\" class=\"dataframe\">\n",
       "  <thead>\n",
       "    <tr style=\"text-align: right;\">\n",
       "      <th></th>\n",
       "      <th>Zenith angle</th>\n",
       "      <th>Avg. count per hour</th>\n",
       "      <th>Avg_Count_Error</th>\n",
       "      <th>Background Rate</th>\n",
       "    </tr>\n",
       "  </thead>\n",
       "  <tbody>\n",
       "    <tr>\n",
       "      <th>0</th>\n",
       "      <td>0</td>\n",
       "      <td>11.4</td>\n",
       "      <td>0.49</td>\n",
       "      <td>0.01</td>\n",
       "    </tr>\n",
       "    <tr>\n",
       "      <th>1</th>\n",
       "      <td>9</td>\n",
       "      <td>11.5</td>\n",
       "      <td>0.49</td>\n",
       "      <td>0.01</td>\n",
       "    </tr>\n",
       "    <tr>\n",
       "      <th>2</th>\n",
       "      <td>19</td>\n",
       "      <td>10.1</td>\n",
       "      <td>0.46</td>\n",
       "      <td>0.01</td>\n",
       "    </tr>\n",
       "    <tr>\n",
       "      <th>3</th>\n",
       "      <td>28</td>\n",
       "      <td>8.8</td>\n",
       "      <td>0.43</td>\n",
       "      <td>0.01</td>\n",
       "    </tr>\n",
       "    <tr>\n",
       "      <th>4</th>\n",
       "      <td>34</td>\n",
       "      <td>8.3</td>\n",
       "      <td>0.42</td>\n",
       "      <td>0.01</td>\n",
       "    </tr>\n",
       "    <tr>\n",
       "      <th>5</th>\n",
       "      <td>40</td>\n",
       "      <td>7.7</td>\n",
       "      <td>0.40</td>\n",
       "      <td>0.01</td>\n",
       "    </tr>\n",
       "    <tr>\n",
       "      <th>6</th>\n",
       "      <td>45</td>\n",
       "      <td>5.8</td>\n",
       "      <td>0.35</td>\n",
       "      <td>0.01</td>\n",
       "    </tr>\n",
       "    <tr>\n",
       "      <th>7</th>\n",
       "      <td>53</td>\n",
       "      <td>5.6</td>\n",
       "      <td>0.34</td>\n",
       "      <td>0.01</td>\n",
       "    </tr>\n",
       "    <tr>\n",
       "      <th>8</th>\n",
       "      <td>66</td>\n",
       "      <td>3.1</td>\n",
       "      <td>0.25</td>\n",
       "      <td>0.01</td>\n",
       "    </tr>\n",
       "    <tr>\n",
       "      <th>9</th>\n",
       "      <td>70</td>\n",
       "      <td>3.0</td>\n",
       "      <td>0.25</td>\n",
       "      <td>0.01</td>\n",
       "    </tr>\n",
       "    <tr>\n",
       "      <th>10</th>\n",
       "      <td>80</td>\n",
       "      <td>2.7</td>\n",
       "      <td>0.24</td>\n",
       "      <td>0.01</td>\n",
       "    </tr>\n",
       "    <tr>\n",
       "      <th>11</th>\n",
       "      <td>90</td>\n",
       "      <td>1.7</td>\n",
       "      <td>0.19</td>\n",
       "      <td>0.01</td>\n",
       "    </tr>\n",
       "  </tbody>\n",
       "</table>\n",
       "</div>"
      ],
      "text/plain": [
       "    Zenith angle  Avg. count per hour  Avg_Count_Error  Background Rate\n",
       "0              0                 11.4             0.49             0.01\n",
       "1              9                 11.5             0.49             0.01\n",
       "2             19                 10.1             0.46             0.01\n",
       "3             28                  8.8             0.43             0.01\n",
       "4             34                  8.3             0.42             0.01\n",
       "5             40                  7.7             0.40             0.01\n",
       "6             45                  5.8             0.35             0.01\n",
       "7             53                  5.6             0.34             0.01\n",
       "8             66                  3.1             0.25             0.01\n",
       "9             70                  3.0             0.25             0.01\n",
       "10            80                  2.7             0.24             0.01\n",
       "11            90                  1.7             0.19             0.01"
      ]
     },
     "execution_count": 37,
     "metadata": {},
     "output_type": "execute_result"
    }
   ],
   "source": [
    "data"
   ]
  },
  {
   "cell_type": "code",
   "execution_count": null,
   "metadata": {},
   "outputs": [],
   "source": []
  },
  {
   "cell_type": "code",
   "execution_count": 38,
   "metadata": {},
   "outputs": [
    {
     "name": "stdout",
     "output_type": "stream",
     "text": [
      "{'I0': [87.10622919709876, 1.9104572262419917], 'k': [4.167841570323244, 0.6908439322515592], 'n': array([3., 0.])}\n"
     ]
    }
   ],
   "source": [
    "popt_flux, pcov_flux = optimize.curve_fit(flux_k,X,Y_New,p0=[10,4])   # Optimizing values for I0 and k\n",
    "#Updating parameters\n",
    "param[\"I0\"] = [popt_flux[0], perr[0]]\n",
    "param[\"k\"] = [popt_flux[1], perr[1]]\n",
    "\n",
    "perr = np.sqrt(np.diag(pcov_flux))         #Getting std errors\n",
    "\n",
    "print(param)\n",
    "\n",
    "I0 = param['I0'][0]\n",
    "k = param['k'][0]\n",
    "n = param['n'][0]"
   ]
  },
  {
   "cell_type": "code",
   "execution_count": 39,
   "metadata": {},
   "outputs": [],
   "source": [
    "d = I0*(D(X,k)**-(n-1))   # Obtained distribution"
   ]
  },
  {
   "cell_type": "code",
   "execution_count": 40,
   "metadata": {},
   "outputs": [
    {
     "name": "stdout",
     "output_type": "stream",
     "text": [
      "Power_divergenceResult(statistic=4.73267012535045, pvalue=0.9434187269551695)\n"
     ]
    }
   ],
   "source": [
    "print(stats.chisquare(f_obs= Y_New, f_exp = d))"
   ]
  },
  {
   "cell_type": "code",
   "execution_count": null,
   "metadata": {},
   "outputs": [],
   "source": []
  }
 ],
 "metadata": {
  "kernelspec": {
   "display_name": "Python 3",
   "language": "python",
   "name": "python3"
  },
  "language_info": {
   "codemirror_mode": {
    "name": "ipython",
    "version": 3
   },
   "file_extension": ".py",
   "mimetype": "text/x-python",
   "name": "python",
   "nbconvert_exporter": "python",
   "pygments_lexer": "ipython3",
   "version": "3.7.3"
  }
 },
 "nbformat": 4,
 "nbformat_minor": 2
}
